{
 "cells": [
  {
   "cell_type": "code",
   "execution_count": 1,
   "id": "accessory-turner",
   "metadata": {},
   "outputs": [],
   "source": [
    "import tensorflow as tf\n",
    "import numpy as np\n",
    "from tensorflow.keras.layers import Conv2D, MaxPooling2D, Dense, Flatten\n",
    "from tensorflow.keras.optimizers import SGD, RMSprop"
   ]
  },
  {
   "cell_type": "markdown",
   "id": "difficult-colleague",
   "metadata": {},
   "source": [
    "## 데이터 불러오기"
   ]
  },
  {
   "cell_type": "code",
   "execution_count": 2,
   "id": "missing-objective",
   "metadata": {},
   "outputs": [],
   "source": [
    "(train_X, train_Y), (test_X, test_Y) = tf.keras.datasets.mnist.load_data()"
   ]
  },
  {
   "cell_type": "markdown",
   "id": "egyptian-tumor",
   "metadata": {},
   "source": [
    "## 데이터 변환"
   ]
  },
  {
   "cell_type": "code",
   "execution_count": 4,
   "id": "broke-organic",
   "metadata": {
    "scrolled": true
   },
   "outputs": [
    {
     "data": {
      "text/plain": [
       "136"
      ]
     },
     "execution_count": 4,
     "metadata": {},
     "output_type": "execute_result"
    }
   ],
   "source": [
    "train_X[0][5][17]"
   ]
  },
  {
   "cell_type": "code",
   "execution_count": 5,
   "id": "danish-export",
   "metadata": {},
   "outputs": [],
   "source": [
    "trainX = train_X.reshape((train_X.shape[0], 28, 28, 1))\n",
    "testX = test_X.reshape((test_X.shape[0], 28, 28, 1))\n",
    "#trainX = trainX.astype('float32')/255.\n",
    "#testX = testX.astype('float32')/255."
   ]
  },
  {
   "cell_type": "code",
   "execution_count": 7,
   "id": "mineral-africa",
   "metadata": {},
   "outputs": [
    {
     "data": {
      "text/plain": [
       "array([5, 0, 4, 1, 9], dtype=uint8)"
      ]
     },
     "execution_count": 7,
     "metadata": {},
     "output_type": "execute_result"
    }
   ],
   "source": [
    "train_Y[:5]"
   ]
  },
  {
   "cell_type": "code",
   "execution_count": 8,
   "id": "rubber-archive",
   "metadata": {},
   "outputs": [],
   "source": [
    "trainY = tf.keras.utils.to_categorical(train_Y)\n",
    "testY = tf.keras.utils.to_categorical(test_Y)"
   ]
  },
  {
   "cell_type": "code",
   "execution_count": 9,
   "id": "continuing-steps",
   "metadata": {},
   "outputs": [
    {
     "data": {
      "text/plain": [
       "array([[0., 0., 0., 0., 0., 1., 0., 0., 0., 0.],\n",
       "       [1., 0., 0., 0., 0., 0., 0., 0., 0., 0.],\n",
       "       [0., 0., 0., 0., 1., 0., 0., 0., 0., 0.],\n",
       "       [0., 1., 0., 0., 0., 0., 0., 0., 0., 0.],\n",
       "       [0., 0., 0., 0., 0., 0., 0., 0., 0., 1.]], dtype=float32)"
      ]
     },
     "execution_count": 9,
     "metadata": {},
     "output_type": "execute_result"
    }
   ],
   "source": [
    "trainY[:5]"
   ]
  },
  {
   "cell_type": "code",
   "execution_count": 10,
   "id": "stone-spotlight",
   "metadata": {},
   "outputs": [
    {
     "name": "stdout",
     "output_type": "stream",
     "text": [
      "(60000, 28, 28, 1)\n",
      "(10000, 28, 28, 1)\n",
      "(60000, 10)\n",
      "(10000, 10)\n"
     ]
    }
   ],
   "source": [
    "print(trainX.shape)\n",
    "print(testX.shape)\n",
    "print(trainY.shape)\n",
    "print(testY.shape)"
   ]
  },
  {
   "cell_type": "markdown",
   "id": "accurate-present",
   "metadata": {},
   "source": [
    "## 모델 생성"
   ]
  },
  {
   "cell_type": "code",
   "execution_count": 50,
   "id": "interior-tiger",
   "metadata": {},
   "outputs": [],
   "source": [
    "model = tf.keras.models.Sequential()\n",
    "model.add(Conv2D(32, (3, 3), activation='relu', kernel_initializer='he_uniform', input_shape=(28, 28, 1)))\n",
    "model.add(MaxPooling2D((2, 2)))\n",
    "model.add(Flatten())\n",
    "model.add(Dense(100, activation='relu', kernel_initializer='he_uniform'))\n",
    "model.add(Dense(10, activation='softmax'))"
   ]
  },
  {
   "cell_type": "code",
   "execution_count": 51,
   "id": "visible-chase",
   "metadata": {},
   "outputs": [
    {
     "name": "stdout",
     "output_type": "stream",
     "text": [
      "1875/1875 [==============================] - 7s 3ms/step - loss: 468.6943 - accuracy: 0.1074 - val_loss: 2.3013 - val_accuracy: 0.1135\n"
     ]
    },
    {
     "data": {
      "text/plain": [
       "<tensorflow.python.keras.callbacks.History at 0x177f50820>"
      ]
     },
     "execution_count": 51,
     "metadata": {},
     "output_type": "execute_result"
    }
   ],
   "source": [
    "opt = SGD(lr=0.01, momentum=0.9)\n",
    "model.compile(optimizer=opt, loss='categorical_crossentropy', metrics=['accuracy'])\n",
    "model.fit(trainX, trainY, epochs=1, batch_size=32, validation_data=(testX, testY))"
   ]
  },
  {
   "cell_type": "markdown",
   "id": "disabled-agent",
   "metadata": {},
   "source": [
    "## 데이터 정규화 후 학습"
   ]
  },
  {
   "cell_type": "code",
   "execution_count": 12,
   "id": "editorial-acting",
   "metadata": {},
   "outputs": [],
   "source": [
    "trainX2 = trainX.astype('float32')/255.\n",
    "testX2 =testX.astype('float32')/255."
   ]
  },
  {
   "cell_type": "code",
   "execution_count": 13,
   "id": "after-ranking",
   "metadata": {},
   "outputs": [
    {
     "data": {
      "text/plain": [
       "array([0.53333336], dtype=float32)"
      ]
     },
     "execution_count": 13,
     "metadata": {},
     "output_type": "execute_result"
    }
   ],
   "source": [
    "trainX2[0][5][17]"
   ]
  },
  {
   "cell_type": "code",
   "execution_count": 57,
   "id": "eastern-judges",
   "metadata": {},
   "outputs": [],
   "source": [
    "model2 = tf.keras.models.Sequential()\n",
    "model2.add(Conv2D(32, (3, 3), activation='relu', kernel_initializer='he_uniform', input_shape=(28, 28, 1)))\n",
    "model2.add(MaxPooling2D((2, 2)))\n",
    "model2.add(Flatten())\n",
    "model2.add(Dense(100, activation='relu', kernel_initializer='he_uniform'))\n",
    "model2.add(Dense(10, activation='softmax'))"
   ]
  },
  {
   "cell_type": "code",
   "execution_count": 154,
   "id": "superb-pointer",
   "metadata": {},
   "outputs": [
    {
     "name": "stdout",
     "output_type": "stream",
     "text": [
      "1875/1875 [==============================] - 7s 4ms/step - loss: 0.0639 - accuracy: 0.9811 - val_loss: 0.0730 - val_accuracy: 0.9774\n"
     ]
    }
   ],
   "source": [
    "opt = SGD(lr=0.01, momentum=0.9)\n",
    "model2.compile(optimizer=opt, loss='categorical_crossentropy', metrics=['accuracy'])\n",
    "history = model2.fit(trainX2, trainY, epochs=1, batch_size=32, validation_data=(testX2, testY))"
   ]
  },
  {
   "cell_type": "markdown",
   "id": "possible-beach",
   "metadata": {
    "scrolled": true
   },
   "source": [
    "## 모듈화"
   ]
  },
  {
   "cell_type": "code",
   "execution_count": 191,
   "id": "following-staff",
   "metadata": {},
   "outputs": [],
   "source": [
    "class mnistLearner():\n",
    "    def __init__(self, loss='categorical_crossentropy', optimizer=SGD(lr=0.01), metrics=['accuracy'], **kwargs):\n",
    "        \n",
    "        self.loss = loss\n",
    "        self.optimizer = optimizer\n",
    "        self.metrics = metrics\n",
    "\n",
    "        if 'epochs' in kwargs.keys():\n",
    "            self.epochs = kwargs['epochs']\n",
    "        else:\n",
    "            self.epochs = 10\n",
    "\n",
    "        if 'batch_size' in kwargs.keys():\n",
    "            self.batch_size = kwargs['batch_size']\n",
    "        else:\n",
    "            self.batch_size = 32\n",
    "\n",
    "\n",
    "    def prepare_data(self):\n",
    "\n",
    "        (train_X, train_Y), (test_X, test_Y) = tf.keras.datasets.mnist.load_data()\n",
    "\n",
    "        train_X = train_X.reshape((train_X.shape[0], 28, 28, 1))\n",
    "        test_X = test_X.reshape((test_X.shape[0], 28, 28, 1))\n",
    "\n",
    "        train_X = train_X.astype('float32')/255.\n",
    "        test_X = test_X.astype('float32')/255.\n",
    "\n",
    "        train_Y = tf.keras.utils.to_categorical(train_Y)\n",
    "        test_Y = tf.keras.utils.to_categorical(test_Y)\n",
    "\n",
    "        return train_X, test_X, train_Y, test_Y\n",
    "\n",
    "\n",
    "    def set_optimizer(self, opt_name, lr=0.01):\n",
    "\n",
    "        if opt_name == 'SGD':\n",
    "            self.optimizer = SGD(lr)\n",
    "        elif opt_name == 'RMSprop':\n",
    "            self.optimizer = RMSprop(lr)\n",
    "\n",
    "\n",
    "    def set_loss(self, loss_name):\n",
    "\n",
    "        self.loss = loss_name\n",
    "    \n",
    "\n",
    "    def set_metrics(self, *args):\n",
    "        \n",
    "        self.metrics = list(*args)\n",
    "\n",
    "    def build_model(self):\n",
    "\n",
    "        self.model = tf.keras.models.Sequential()\n",
    "        self.model.add(Conv2D(32, (3, 3), activation='relu', kernel_initializer='he_uniform', input_shape=(28, 28, 1)))\n",
    "        self.model.add(MaxPooling2D((2, 2)))\n",
    "        self.model.add(Flatten())\n",
    "        self.model.add(Dense(100, activation='relu', kernel_initializer='he_uniform'))\n",
    "        self.model.add(Dense(10, activation='softmax'))\n",
    "        self.model.compile(optimizer=self.optimizer, loss=self.loss, metrics=self.metrics)\n",
    "\n",
    "    \n",
    "    def learn_model(self, train_X, test_X, train_Y, test_Y):\n",
    "        \n",
    "        self.history = self.model.fit(train_X, train_Y, epochs=self.epochs, batch_size=self.batch_size, validation_data=(test_X, test_Y))\n",
    "\n",
    "    \n",
    "    def get_score(self, test_X, test_Y):\n",
    "\n",
    "        score = self.model.evaluate(test_X, test_Y)\n",
    "\n",
    "        return score"
   ]
  },
  {
   "cell_type": "code",
   "execution_count": 192,
   "id": "alone-marathon",
   "metadata": {},
   "outputs": [],
   "source": [
    "temp = mnistLearner(epochs=5, batch_size=64)"
   ]
  },
  {
   "cell_type": "code",
   "execution_count": 193,
   "id": "boxed-manchester",
   "metadata": {},
   "outputs": [
    {
     "name": "stdout",
     "output_type": "stream",
     "text": [
      "loss :  categorical_crossentropy\n",
      "optimizer :  <tensorflow.python.keras.optimizer_v2.gradient_descent.SGD object at 0x30c4c0760>\n",
      "metrics :  ['accuracy']\n",
      "epochs :  5\n",
      "batch_size :  64\n"
     ]
    }
   ],
   "source": [
    "print('loss : ', temp.loss)\n",
    "print('optimizer : ', temp.optimizer)\n",
    "print('metrics : ', temp.metrics)\n",
    "print('epochs : ', temp.epochs)\n",
    "print('batch_size : ', temp.batch_size)"
   ]
  },
  {
   "cell_type": "code",
   "execution_count": 194,
   "id": "educated-syndrome",
   "metadata": {},
   "outputs": [],
   "source": [
    "train_x, test_x, train_y, test_y = temp.prepare_data()"
   ]
  },
  {
   "cell_type": "code",
   "execution_count": 195,
   "id": "geological-comparison",
   "metadata": {},
   "outputs": [],
   "source": [
    "temp.build_model()"
   ]
  },
  {
   "cell_type": "code",
   "execution_count": 196,
   "id": "secure-commodity",
   "metadata": {},
   "outputs": [
    {
     "name": "stdout",
     "output_type": "stream",
     "text": [
      "Model: \"sequential_9\"\n",
      "_________________________________________________________________\n",
      "Layer (type)                 Output Shape              Param #   \n",
      "=================================================================\n",
      "conv2d_8 (Conv2D)            (None, 26, 26, 32)        320       \n",
      "_________________________________________________________________\n",
      "max_pooling2d_8 (MaxPooling2 (None, 13, 13, 32)        0         \n",
      "_________________________________________________________________\n",
      "flatten_8 (Flatten)          (None, 5408)              0         \n",
      "_________________________________________________________________\n",
      "dense_16 (Dense)             (None, 100)               540900    \n",
      "_________________________________________________________________\n",
      "dense_17 (Dense)             (None, 10)                1010      \n",
      "=================================================================\n",
      "Total params: 542,230\n",
      "Trainable params: 542,230\n",
      "Non-trainable params: 0\n",
      "_________________________________________________________________\n"
     ]
    }
   ],
   "source": [
    "temp.model.summary()"
   ]
  },
  {
   "cell_type": "code",
   "execution_count": 197,
   "id": "announced-agency",
   "metadata": {},
   "outputs": [
    {
     "name": "stdout",
     "output_type": "stream",
     "text": [
      "Epoch 1/5\n",
      "938/938 [==============================] - 6s 6ms/step - loss: 0.5676 - accuracy: 0.8391 - val_loss: 0.2186 - val_accuracy: 0.9365\n",
      "Epoch 2/5\n",
      "938/938 [==============================] - 6s 6ms/step - loss: 0.2075 - accuracy: 0.9419 - val_loss: 0.1572 - val_accuracy: 0.9537\n",
      "Epoch 3/5\n",
      "938/938 [==============================] - 6s 6ms/step - loss: 0.1573 - accuracy: 0.9553 - val_loss: 0.1409 - val_accuracy: 0.9603\n",
      "Epoch 4/5\n",
      "938/938 [==============================] - 7s 7ms/step - loss: 0.1266 - accuracy: 0.9647 - val_loss: 0.1219 - val_accuracy: 0.9643\n",
      "Epoch 5/5\n",
      "938/938 [==============================] - 6s 6ms/step - loss: 0.1141 - accuracy: 0.9679 - val_loss: 0.0976 - val_accuracy: 0.9713\n"
     ]
    }
   ],
   "source": [
    "temp.learn_model(train_x, test_x, train_y, test_y)"
   ]
  },
  {
   "cell_type": "code",
   "execution_count": 198,
   "id": "extreme-ranking",
   "metadata": {},
   "outputs": [
    {
     "data": {
      "text/plain": [
       "dict_keys(['loss', 'accuracy', 'val_loss', 'val_accuracy'])"
      ]
     },
     "execution_count": 198,
     "metadata": {},
     "output_type": "execute_result"
    }
   ],
   "source": [
    "temp.history.history.keys()"
   ]
  },
  {
   "cell_type": "code",
   "execution_count": 199,
   "id": "still-elder",
   "metadata": {},
   "outputs": [
    {
     "data": {
      "text/plain": [
       "[0.3563477396965027,\n",
       " 0.19638437032699585,\n",
       " 0.15331131219863892,\n",
       " 0.127248615026474,\n",
       " 0.10892773419618607]"
      ]
     },
     "execution_count": 199,
     "metadata": {},
     "output_type": "execute_result"
    }
   ],
   "source": [
    "temp.history.history['loss']"
   ]
  },
  {
   "cell_type": "code",
   "execution_count": 202,
   "id": "listed-manitoba",
   "metadata": {},
   "outputs": [],
   "source": [
    "import matplotlib.pyplot as plt"
   ]
  },
  {
   "cell_type": "code",
   "execution_count": 209,
   "id": "simple-benchmark",
   "metadata": {},
   "outputs": [
    {
     "data": {
      "text/plain": [
       "[]"
      ]
     },
     "execution_count": 209,
     "metadata": {},
     "output_type": "execute_result"
    },
    {
     "data": {
      "image/png": "[encoded data removed]",
      "text/plain": [
       "<Figure size 432x288 with 1 Axes>"
      ]
     },
     "metadata": {
      "needs_background": "light"
     },
     "output_type": "display_data"
    }
   ],
   "source": [
    "plt.plot(range(1, 6), temp.history.history['loss'], 'b-', label='loss')\n",
    "plt.plot(range(1, 6), temp.history.history['val_loss'], 'r:', label='val_loss')\n",
    "plt.legend(loc='upper right')\n",
    "plt.xticks([1, 2, 3, 4, 5])\n",
    "plt.plot()"
   ]
  },
  {
   "cell_type": "code",
   "execution_count": 208,
   "id": "frequent-culture",
   "metadata": {},
   "outputs": [
    {
     "data": {
      "text/plain": [
       "[]"
      ]
     },
     "execution_count": 208,
     "metadata": {},
     "output_type": "execute_result"
    },
    {
     "data": {
      "image/png": "[encoded data removed]",
      "text/plain": [
       "<Figure size 432x288 with 1 Axes>"
      ]
     },
     "metadata": {
      "needs_background": "light"
     },
     "output_type": "display_data"
    }
   ],
   "source": [
    "plt.plot(range(1, 6), temp.history.history['accuracy'], 'b-', label='accuracy')\n",
    "plt.plot(range(1, 6), temp.history.history['val_accuracy'], 'r:', label='val_accuracy')\n",
    "plt.legend(loc='upper right')\n",
    "plt.xticks([1, 2, 3, 4, 5])\n",
    "plt.plot()"
   ]
  },
  {
   "cell_type": "code",
   "execution_count": 200,
   "id": "dental-injection",
   "metadata": {},
   "outputs": [
    {
     "name": "stdout",
     "output_type": "stream",
     "text": [
      "313/313 [==============================] - 0s 1ms/step - loss: 0.0976 - accuracy: 0.9713\n"
     ]
    }
   ],
   "source": [
    "score = temp.get_score(test_x, test_y)"
   ]
  },
  {
   "cell_type": "code",
   "execution_count": 201,
   "id": "accepting-amendment",
   "metadata": {},
   "outputs": [
    {
     "name": "stdout",
     "output_type": "stream",
     "text": [
      "[0.09761486947536469, 0.9713000059127808]\n"
     ]
    }
   ],
   "source": [
    "print(score)"
   ]
  }
 ],
 "metadata": {
  "kernelspec": {
   "display_name": "Python 3",
   "language": "python",
   "name": "python3"
  },
  "language_info": {
   "codemirror_mode": {
    "name": "ipython",
    "version": 3
   },
   "file_extension": ".py",
   "mimetype": "text/x-python",
   "name": "python",
   "nbconvert_exporter": "python",
   "pygments_lexer": "ipython3",
   "version": "3.8.6"
  }
 },
 "nbformat": 4,
 "nbformat_minor": 5
}
